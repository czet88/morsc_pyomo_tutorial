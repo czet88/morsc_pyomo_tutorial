{
 "cells": [
  {
   "cell_type": "markdown",
   "metadata": {},
   "source": [
    "# What is Pyomo and how does it work"
   ]
  },
  {
   "cell_type": "code",
   "execution_count": null,
   "metadata": {},
   "outputs": [],
   "source": [
    "# import image module\n",
    "from IPython.display import Image\n",
    "  \n",
    "# get the image\n",
    "Image(url=\"images/Pyomo.drawio.png\", width=800, height=800)"
   ]
  },
  {
   "cell_type": "markdown",
   "metadata": {},
   "source": [
    "# When to use Pyomo"
   ]
  },
  {
   "cell_type": "markdown",
   "metadata": {},
   "source": [
    "### Model considerations\n",
    "- No advanced callbacks\n",
    "- Model variables are easily constructed from data (little to no preprocessing)\n",
    "\n",
    "### Environment considerations\n",
    "- Proof of Value and experimentation phase\n",
    "- Solver choice is still an open question\n",
    "- Many models will be tested\n",
    "- Visualizations are important"
   ]
  },
  {
   "cell_type": "markdown",
   "metadata": {},
   "source": [
    "# Abstract versus Concrete Models and why it matters"
   ]
  },
  {
   "cell_type": "code",
   "execution_count": null,
   "metadata": {},
   "outputs": [],
   "source": [
    "# get the image\n",
    "Image(url=\"images/Abstract_Models.drawio.png\", width=800, height=800)"
   ]
  },
  {
   "cell_type": "code",
   "execution_count": null,
   "metadata": {},
   "outputs": [],
   "source": [
    "# get the image\n",
    "Image(url=\"images/Concrete_Models.drawio.png\", width=600, height=600)"
   ]
  },
  {
   "cell_type": "markdown",
   "metadata": {},
   "source": [
    "# An example (Maximum Flow)\n",
    "\n",
    "## Summary\n",
    "\n",
    "The goal of the maximum flow problem is to find the maximum flow possible in a network from some given source node to a given sink node.  Applications of the max flow problem include finding the maximum flow of orders through a job shop, the maximum flow of water through a storm sewer system, and the maximum flow of product through a product distribution system, among others. Schrijver (2002) note that the maximum flow problem was first formulated in 1954 by T. E. Harris and F. S. Ross as a simplified model of Soviet railway traffic flow.\n",
    "\n",
    "A network is a directed graph, and the arc capacities, or upper bounds, are the only relevant parameters.  A network graph does not have to be symmetric: if an arc (v,w) is in the graph, the reverse arc (w,v) does not have to be in the graph. Further, parallel arcs are not allowed, and self-loops are not allowed. The source and the sink are distinct nodes in the network, but the sink may be unreachable from the source.\n",
    " \n",
    "\n",
    "## Problem Notation\n",
    "\n",
    "The max flow problem can be formulated mathematically as a linear programming problem using the following model.  \n",
    "\n",
    "### Sets\n",
    "\n",
    " $N$ = nodes in the network  \n",
    " $A$ = network arcs\n",
    "\n",
    "### Parameters\n",
    "\n",
    " $s$ = source node  \n",
    " $t$ = sink node  \n",
    " $c_{ij}$ = arc flow capacity, $\\forall (i,j) \\in A$\n",
    " \n",
    "### Variables\n",
    " $x_{i,j}$ = arc flow, $\\forall (i,j) \\in A$\n",
    " \n",
    "\n",
    "## Mathematical Formulation\n",
    "\n",
    "### Objective\n",
    "\n",
    "Maximize the flow into the sink nodes  \n",
    " $\\max \\sum_{\\{i \\mid (i,t) \\in A\\}} c_{i,t} x_{i,t}$\n",
    "\n",
    "### Constraints\n",
    "\n",
    "Flow balancing constraints  \n",
    " $\\sum_{\\{i \\mid (i,j) \\in A\\}} x_{i,j} = \\sum_{\\{i \\mid (j,i) \\in A\\}} x_{j,i}$, $\\forall j \\in N  \\{s,t\\}$\n",
    "\n",
    "Enforce an upper limit on the flow across each arc  \n",
    " $x_{i,j} \\leq c_{i,j}$, $\\forall (i,j) \\in A$\n",
    " \n",
    "Flow lower bound  \n",
    " $x_{i,j} \\geq 0$, $\\forall (i,j) \\in A$"
   ]
  },
  {
   "cell_type": "markdown",
   "metadata": {},
   "source": [
    "# Pyomo implementation using Abstract Models"
   ]
  },
  {
   "cell_type": "markdown",
   "metadata": {},
   "source": [
    "Import pyomo environment and declare the Abstract Model"
   ]
  },
  {
   "cell_type": "code",
   "execution_count": null,
   "metadata": {},
   "outputs": [],
   "source": [
    "from pyomo.environ import *\n",
    "\n",
    "model = AbstractModel()"
   ]
  },
  {
   "cell_type": "markdown",
   "metadata": {},
   "source": [
    "The sets $N$ and $A$ are declared abstractly using the `Set` component:"
   ]
  },
  {
   "cell_type": "code",
   "execution_count": null,
   "metadata": {},
   "outputs": [],
   "source": [
    "# Nodes in the network\n",
    "model.N = Set()\n",
    "\n",
    "# Network arcs, initializing with node information previously declared\n",
    "model.A = Set(within=model.N*model.N)"
   ]
  },
  {
   "cell_type": "markdown",
   "metadata": {},
   "source": [
    "Similarly, the model parameters are defined abstractly using the `Param` component:"
   ]
  },
  {
   "cell_type": "code",
   "execution_count": null,
   "metadata": {},
   "outputs": [],
   "source": [
    "# Source node\n",
    "model.s = Param(within=model.N)\n",
    "# Sink node\n",
    "model.t = Param(within=model.N)\n",
    "# Flow capacity limits\n",
    "model.c = Param(model.A)"
   ]
  },
  {
   "cell_type": "markdown",
   "metadata": {},
   "source": [
    "The `Var` component is used to define the decision variables:"
   ]
  },
  {
   "cell_type": "code",
   "execution_count": null,
   "metadata": {},
   "outputs": [],
   "source": [
    "# The flow over each arc\n",
    "model.x = Var(model.A, within=NonNegativeReals)"
   ]
  },
  {
   "cell_type": "markdown",
   "metadata": {},
   "source": [
    "# Implementing the objective function and constraints using `rules`"
   ]
  },
  {
   "cell_type": "markdown",
   "metadata": {},
   "source": [
    "Implementing the objective function with the `rule` and the `Objective` components"
   ]
  },
  {
   "cell_type": "code",
   "execution_count": null,
   "metadata": {},
   "outputs": [],
   "source": [
    "# Define rule to calculate the flow into the sink nodes\n",
    "def total_rule(model):\n",
    "    return sum(model.x[i,j] for (i, j) in model.A if j == value(model.t))\n",
    "\n",
    "# Add it to the model as an objective function to maximize\n",
    "model.total = Objective(rule=total_rule, sense=maximize)"
   ]
  },
  {
   "cell_type": "markdown",
   "metadata": {},
   "source": [
    "Implementing the constraints with the `rule` and `Constraint` components"
   ]
  },
  {
   "cell_type": "code",
   "execution_count": null,
   "metadata": {},
   "outputs": [],
   "source": [
    "# Enforce an upper limit on the flow across each arc\n",
    "def limit_rule(model, i, j):\n",
    "    return model.x[i,j] <= model.c[i, j]\n",
    "\n",
    "# Add the rule to the model\n",
    "model.limit = Constraint(model.A, rule=limit_rule)\n",
    "\n",
    "# Enforce flow through each node\n",
    "def flow_rule(model, k):\n",
    "    if k == value(model.s) or k == value(model.t):\n",
    "        return Constraint.Skip # Note here you can skip the rule for certain conditions\n",
    "    \n",
    "    inFlow  = sum(model.x[i,j] for (i,j) in model.A if j == k)\n",
    "    outFlow = sum(model.x[i,j] for (i,j) in model.A if i == k)\n",
    "    return inFlow == outFlow\n",
    "model.flow = Constraint(model.N, rule=flow_rule)"
   ]
  },
  {
   "cell_type": "markdown",
   "metadata": {},
   "source": [
    "# Running from within the notebook for solution manipulation"
   ]
  },
  {
   "cell_type": "code",
   "execution_count": null,
   "metadata": {},
   "outputs": [],
   "source": [
    "opt = SolverFactory('xpress_direct')\n",
    "instance = model.create_instance(\"./Data/MaxFlow.dat\")\n",
    "results = opt.solve(instance)\n",
    "\n",
    "set_nodes=set()\n",
    "list_edges=[]\n",
    "nest_dictionary_w={}\n",
    "\n",
    "#Print the optimal values of the variables\n",
    "for v in instance.component_objects(Var):\n",
    "    print(\"Variable\",v)  \n",
    "    for index in v:\n",
    "        print (\"    \"+str(index)+\"=\"+str(value(v[index])))\n",
    "        set_nodes.add(index[0])\n",
    "        set_nodes.add(index[1])\n",
    "        if index[0]!=index[1]:\n",
    "            list_edges.append((index[0], index[1], {'Flow':value(v[index])}))"
   ]
  },
  {
   "cell_type": "markdown",
   "metadata": {},
   "source": [
    "# Visualizing the resulting network"
   ]
  },
  {
   "cell_type": "code",
   "execution_count": null,
   "metadata": {},
   "outputs": [],
   "source": [
    "import networkx as nx\n",
    "\n",
    "G = nx.DiGraph()\n",
    "G.add_nodes_from(list(set_nodes))\n",
    "G.add_edges_from(list_edges)\n",
    "pos = nx.kamada_kawai_layout(G)\n",
    "nx.draw(G,pos, with_labels=True)\n",
    "labels = nx.get_edge_attributes(G,'Flow')\n",
    "nx.draw_networkx_edge_labels(G,pos,edge_labels=labels)"
   ]
  },
  {
   "cell_type": "markdown",
   "metadata": {},
   "source": [
    "# Running from the `command line`"
   ]
  },
  {
   "cell_type": "code",
   "execution_count": null,
   "metadata": {},
   "outputs": [],
   "source": [
    "!cat MaxFlow.py"
   ]
  },
  {
   "cell_type": "code",
   "execution_count": null,
   "metadata": {},
   "outputs": [],
   "source": [
    "!pyomo solve --solver=xpress_direct MaxFlow.py Data/MaxFlow.dat --summary"
   ]
  },
  {
   "cell_type": "markdown",
   "metadata": {},
   "source": [
    "Output is written to a `results.yml` file"
   ]
  },
  {
   "cell_type": "code",
   "execution_count": null,
   "metadata": {},
   "outputs": [],
   "source": [
    "!cat results.yml"
   ]
  },
  {
   "cell_type": "markdown",
   "metadata": {},
   "source": [
    "# Running it on the Neos Servers"
   ]
  },
  {
   "cell_type": "code",
   "execution_count": null,
   "metadata": {},
   "outputs": [],
   "source": [
    "import os \n",
    "os.environ['NEOS_EMAIL']=\"cazetina@gmail.com\"\n",
    "solver_manager = SolverManagerFactory('neos')\n",
    "result = solver_manager.solve(instance, opt=\"cplex\", load_solutions=True)\n",
    "print(result)"
   ]
  },
  {
   "cell_type": "markdown",
   "metadata": {},
   "source": [
    "# For other resources to come follow https://www.linkedin.com/company/strategic-analytics-canada"
   ]
  },
  {
   "cell_type": "code",
   "execution_count": null,
   "metadata": {},
   "outputs": [],
   "source": []
  }
 ],
 "metadata": {
  "kernelspec": {
   "display_name": "pyomo_tutorial",
   "language": "python",
   "name": "pyomo_tutorial"
  },
  "language_info": {
   "codemirror_mode": {
    "name": "ipython",
    "version": 3
   },
   "file_extension": ".py",
   "mimetype": "text/x-python",
   "name": "python",
   "nbconvert_exporter": "python",
   "pygments_lexer": "ipython3",
   "version": "3.9.7"
  }
 },
 "nbformat": 4,
 "nbformat_minor": 4
}
